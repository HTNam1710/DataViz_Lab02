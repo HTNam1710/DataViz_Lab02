{
 "cells": [
  {
   "cell_type": "markdown",
   "metadata": {},
   "source": [
    "<div style=\"text-align: center; background-color: #0A6EBD; font-family: 'Trebuchet MS', Arial, sans-serif; color: white; padding: 20px; font-size: 36px; font-weight: bold; border-radius: 0 0 0 0; box-shadow: 0px 6px 8px rgba(0, 0, 0, 0.2);\">\n",
    "  LAB-02: LÀM VIỆC VÀ TRỰC QUAN HÓA DỮ LIỆU CHUỖI THỜI GIAN<Title>\n",
    "</div>"
   ]
  },
  {
   "cell_type": "markdown",
   "metadata": {},
   "source": [
    "<h2>Nhóm 23</h2>\n",
    "<h3>Thông tin nhóm:</h3>\n",
    "\n",
    "\n",
    "<center>\n",
    "\n",
    "| HỌ TÊN                | MSSV      |\n",
    "|:------------------    |:--------: |\n",
    "| Lê Công Đắt     | 20120454  |\n",
    "| Lê Trần Minh Khuê     | 21120279  |\n",
    "| Hoàng Trung Nam       | 21120290  |\n",
    "| Lê Trần Như Ngọc       | 21120296  |\n",
    "| Lê Thị Minh Phương | 21120533  |\n",
    "\n",
    "</center>\n",
    "\n",
    "\n",
    "<h2>Giảng viên hướng dẫn:</h2>\n",
    "\n",
    "### **Thầy Lê Nhựt Nam**\n",
    "\n",
    "<h2>Chủ đề:</h2>\n",
    "\n",
    "## ***Phân tích và trực quan giá cổ phiếu của top 6 ngân hàng có trị thương hiệu tốt nhất Việt Nam***\n",
    "\n",
    "---\n"
   ]
  },
  {
   "cell_type": "markdown",
   "metadata": {},
   "source": [
    "## Phần A: Thu thập dữ liệu"
   ]
  },
  {
   "cell_type": "markdown",
   "metadata": {},
   "source": [
    "### 1. Chủ đề và nguồn dữ liệu:\n",
    "Dữ liệu được nhóm tải về từ website [investing.com](www.investing.com).\n",
    "### 2. Ngữ cảnh chọn dữ liệu:\n",
    "...\n",
    "### 3. Giấy phép sử dụng dữ liệu\n",
    "...\n",
    "### 4. Cách thức thu thập dữ liệu\n",
    "Họ thu thập dữ liệu chứng khoán từ nhiều nguồn khác nhau, bao gồm cả các nhà cung cấp dữ liệu tài chính lớn nhất, cũng như các hợp đồng giao dịch chênh lệch (CFDs - Contract For Difference) theo thời gian thực từ các \"market maker\".\n",
    "### 5. Thông tin về dữ liệu\n",
    "Bộ dữ liệu gồm thông tin chứng khoán của 6 ngân hàng có giá trị thương hiệu tốt nhất Việt Nam năm 2023 (được đánh giá và xếp hạng bởi tổ chức Brand Finance - [xem báo cáo tại đây](https://static.brandirectory.com/reports/brand-finance-banking-500-2023-preview.pdf)).\n",
    "\n",
    "6 Ngân hàng được nhắc đến bao gồm:\n",
    "\n",
    "|Bank\t|Stock symbol\t|World rank 2024|Ngày chính thức niêm yết và giao dịch lần đầu|\n",
    "|:--------:|:--------:|:--------:|:--------: |\n",
    "|Vietcombank\t|VCB\t|133|1/7/2009|\n",
    "|BIDV\t        |BID\t|151|24/1/2014|\n",
    "|VietinBank\t    |CTG\t|157|16/7/2009|\n",
    "|Techcombank\t|TCB\t|160|4/6/2018|\n",
    "|Agribank\t    |AGR\t|162|10/12/2009|\n",
    "|VPBank\t        |VPB\t|175|17/8/2017|\n",
    "\n",
    "Các dữ liệu chứng khoán của từng ngân hàng được thu thập từ ngày giao dịch đầu tiên của mã cổ phiếu tương ứng, đến ngày 24/05/2024. Nhóm thu thập dữ liệu bằng cách tải về các file \"Historical data\" tương ứng với từng ngân hàng.\n",
    "> Các file dữ liệu thô được lưu trữ trong folder \"./Data\". Cụ thể bao gồm các file như sau:  \n",
    "> - VCB Historical Data.csv\n",
    "> - BID Historical Data.csv\n",
    "> - CTG Historical Data.csv\n",
    "> - TCB Historical Data.csv\n",
    "> - AGR Historical Data.csv\n",
    "> - VPB Historical Data.csv\n",
    "\n",
    "\n",
    "\n",
    "\n",
    "\n",
    "\n",
    "\n"
   ]
  }
 ],
 "metadata": {
  "language_info": {
   "name": "python"
  }
 },
 "nbformat": 4,
 "nbformat_minor": 2
}
