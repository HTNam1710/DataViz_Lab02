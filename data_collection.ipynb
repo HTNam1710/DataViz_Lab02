{
 "cells": [
  {
   "cell_type": "markdown",
   "metadata": {},
   "source": [
    "### Import thư viện"
   ]
  },
  {
   "cell_type": "code",
   "execution_count": 2,
   "metadata": {},
   "outputs": [],
   "source": [
    "import pandas as pd"
   ]
  },
  {
   "cell_type": "markdown",
   "metadata": {},
   "source": [
    "### Đọc dữ liệu"
   ]
  },
  {
   "cell_type": "code",
   "execution_count": 3,
   "metadata": {},
   "outputs": [
    {
     "data": {
      "text/html": [
       "<div>\n",
       "<style scoped>\n",
       "    .dataframe tbody tr th:only-of-type {\n",
       "        vertical-align: middle;\n",
       "    }\n",
       "\n",
       "    .dataframe tbody tr th {\n",
       "        vertical-align: top;\n",
       "    }\n",
       "\n",
       "    .dataframe thead th {\n",
       "        text-align: right;\n",
       "    }\n",
       "</style>\n",
       "<table border=\"1\" class=\"dataframe\">\n",
       "  <thead>\n",
       "    <tr style=\"text-align: right;\">\n",
       "      <th></th>\n",
       "      <th>Date</th>\n",
       "      <th>Price</th>\n",
       "      <th>Open</th>\n",
       "      <th>High</th>\n",
       "      <th>Low</th>\n",
       "      <th>Vol.</th>\n",
       "      <th>Change %</th>\n",
       "      <th>Ticker Symbol</th>\n",
       "      <th>Bank Name</th>\n",
       "    </tr>\n",
       "  </thead>\n",
       "  <tbody>\n",
       "    <tr>\n",
       "      <th>509</th>\n",
       "      <td>05/05/2022</td>\n",
       "      <td>81,000</td>\n",
       "      <td>80,500</td>\n",
       "      <td>81,500</td>\n",
       "      <td>79,600</td>\n",
       "      <td>1.02M</td>\n",
       "      <td>1.38%</td>\n",
       "      <td>VCB</td>\n",
       "      <td>Vietcombank</td>\n",
       "    </tr>\n",
       "    <tr>\n",
       "      <th>1150</th>\n",
       "      <td>10/09/2019</td>\n",
       "      <td>64,890</td>\n",
       "      <td>65,351</td>\n",
       "      <td>65,811</td>\n",
       "      <td>64,890</td>\n",
       "      <td>1.10M</td>\n",
       "      <td>-0.71%</td>\n",
       "      <td>VCB</td>\n",
       "      <td>Vietcombank</td>\n",
       "    </tr>\n",
       "    <tr>\n",
       "      <th>1477</th>\n",
       "      <td>06/20/2018</td>\n",
       "      <td>44,050</td>\n",
       "      <td>43,216</td>\n",
       "      <td>44,505</td>\n",
       "      <td>42,610</td>\n",
       "      <td>3.53M</td>\n",
       "      <td>2.83%</td>\n",
       "      <td>VCB</td>\n",
       "      <td>Vietcombank</td>\n",
       "    </tr>\n",
       "    <tr>\n",
       "      <th>4744</th>\n",
       "      <td>04/06/2023</td>\n",
       "      <td>29,600.0</td>\n",
       "      <td>29,350.0</td>\n",
       "      <td>30,200.0</td>\n",
       "      <td>29,350.0</td>\n",
       "      <td>7.83M</td>\n",
       "      <td>0.34%</td>\n",
       "      <td>TCB</td>\n",
       "      <td>Techcombank</td>\n",
       "    </tr>\n",
       "    <tr>\n",
       "      <th>3755</th>\n",
       "      <td>04/06/2021</td>\n",
       "      <td>32,519.8</td>\n",
       "      <td>31,725.7</td>\n",
       "      <td>32,935.7</td>\n",
       "      <td>31,461.0</td>\n",
       "      <td>29.07M</td>\n",
       "      <td>2.38%</td>\n",
       "      <td>CTG</td>\n",
       "      <td>Vietinbank</td>\n",
       "    </tr>\n",
       "  </tbody>\n",
       "</table>\n",
       "</div>"
      ],
      "text/plain": [
       "            Date     Price      Open      High       Low    Vol. Change %  \\\n",
       "509   05/05/2022    81,000    80,500    81,500    79,600   1.02M    1.38%   \n",
       "1150  10/09/2019    64,890    65,351    65,811    64,890   1.10M   -0.71%   \n",
       "1477  06/20/2018    44,050    43,216    44,505    42,610   3.53M    2.83%   \n",
       "4744  04/06/2023  29,600.0  29,350.0  30,200.0  29,350.0   7.83M    0.34%   \n",
       "3755  04/06/2021  32,519.8  31,725.7  32,935.7  31,461.0  29.07M    2.38%   \n",
       "\n",
       "     Ticker Symbol    Bank Name  \n",
       "509            VCB  Vietcombank  \n",
       "1150           VCB  Vietcombank  \n",
       "1477           VCB  Vietcombank  \n",
       "4744           TCB  Techcombank  \n",
       "3755           CTG   Vietinbank  "
      ]
     },
     "execution_count": 3,
     "metadata": {},
     "output_type": "execute_result"
    }
   ],
   "source": [
    "# Xác định tên tệp và tên cổ phiếu và ngân hàng tương ứng\n",
    "files = [\n",
    "    (\"VCB Historical Data.csv\", \"VCB\", \"Vietcombank\"),\n",
    "    (\"BID Historical Data.csv\", \"BID\", \"BIDV\"),\n",
    "    (\"CTG Historical Data.csv\", \"CTG\", \"Vietinbank\"),\n",
    "    (\"TCB Historical Data.csv\", \"TCB\", \"Techcombank\"),\n",
    "    (\"AGR Historical Data.csv\", \"AGR\", \"Agribank\")\n",
    "]\n",
    "\n",
    "# Đường dẫn đến thư mục chứa dữ liệu nguồn\n",
    "data_dir = \"source_data/\"\n",
    "\n",
    "# Khởi tạo một danh sách để lưu trữ tất cả các DataFrame\n",
    "dfs = []\n",
    "\n",
    "# Vòng lặp qua từng tệp và xử lý nó\n",
    "for file, stock, bank in files:\n",
    "    # Đọc tệp CSV vào một DataFrame\n",
    "    df = pd.read_csv(data_dir + file)\n",
    "    \n",
    "    # Thêm cột \"Stock\" và \"Bank\" vào DataFrame\n",
    "    df['Ticker Symbol'] = stock\n",
    "    df['Bank Name'] = bank\n",
    "    \n",
    "    # Thêm DataFrame vào danh sách\n",
    "    dfs.append(df)\n",
    "\n",
    "# Kết hợp tất cả các DataFrame trong danh sách thành một DataFrame duy nhất\n",
    "all_data = pd.concat(dfs, ignore_index=True)\n",
    "\n",
    "all_data.sample(5)"
   ]
  },
  {
   "cell_type": "markdown",
   "metadata": {},
   "source": [
    "### Lưu dữ liệu vào file data.csv"
   ]
  },
  {
   "cell_type": "code",
   "execution_count": 4,
   "metadata": {},
   "outputs": [],
   "source": [
    "# Lưu DataFrame đã kết hợp vào một tệp CSV mới\n",
    "all_data.to_csv(\"data.csv\", index=False)"
   ]
  }
 ],
 "metadata": {
  "kernelspec": {
   "display_name": "Python 3",
   "language": "python",
   "name": "python3"
  },
  "language_info": {
   "codemirror_mode": {
    "name": "ipython",
    "version": 3
   },
   "file_extension": ".py",
   "mimetype": "text/x-python",
   "name": "python",
   "nbconvert_exporter": "python",
   "pygments_lexer": "ipython3",
   "version": "3.12.0"
  }
 },
 "nbformat": 4,
 "nbformat_minor": 2
}
