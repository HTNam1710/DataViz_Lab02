{
 "cells": [
  {
   "cell_type": "markdown",
   "metadata": {},
   "source": [
    "<div style=\"text-align: center; background-color: #0A6EBD; font-family: 'Trebuchet MS', Arial, sans-serif; color: white; padding: 20px; font-size: 36px; font-weight: bold; border-radius: 0 0 0 0; box-shadow: 0px 6px 8px rgba(0, 0, 0, 0.2);\">\n",
    "  LAB-02: LÀM VIỆC VÀ TRỰC QUAN HÓA DỮ LIỆU CHUỖI THỜI GIAN<Title>\n",
    "</div>"
   ]
  },
  {
   "cell_type": "markdown",
   "metadata": {},
   "source": [
    "<h2>Nhóm 23</h2>\n",
    "<h3>Thông tin nhóm:</h3>\n",
    "\n",
    "\n",
    "<center>\n",
    "\n",
    "| HỌ TÊN                | MSSV      |\n",
    "|:------------------    |:--------: |\n",
    "| Lê Công Đắt     | 20120454  |\n",
    "| Lê Trần Minh Khuê     | 21120279  |\n",
    "| Hoàng Trung Nam       | 21120290  |\n",
    "| Lê Trần Như Ngọc       | 21120296  |\n",
    "| Lê Thị Minh Phương | 21120533  |\n",
    "\n",
    "</center>\n",
    "\n",
    "\n",
    "<h2>Giảng viên hướng dẫn:</h2>\n",
    "\n",
    "### **Thầy Lê Nhựt Nam**\n",
    "\n",
    "<h2>Chủ đề:</h2>\n",
    "\n",
    "## ***Phân tích và trực quan giá cổ phiếu của top 6 ngân hàng có trị thương hiệu tốt nhất Việt Nam***\n",
    "\n",
    "---\n"
   ]
  },
  {
   "cell_type": "markdown",
   "metadata": {},
   "source": [
    "# **Phần C: Khám phá mối quan hệ trong dữ liệu.**\n",
    "## **C0x. <brief về các câu hỏi trong file này>**\n",
    "> *Ví dụ*: Tổng quan giá cổ phiếu của các Ngân hàng giai đoạn... / Phân tích biến động .... (Xoá sau khi đọc)\n",
    "\n",
    "#### ***Sơ lược nội dung:***\n",
    "1. <Câu hỏi 1>\n",
    "2. <Câu hỏi 2>\n",
    "3. <Câu hỏi 3>\n"
   ]
  },
  {
   "cell_type": "markdown",
   "metadata": {},
   "source": [
    "## **I. Chuẩn bị** "
   ]
  },
  {
   "cell_type": "markdown",
   "metadata": {},
   "source": [
    "### 1. Nhập các thư viện"
   ]
  },
  {
   "cell_type": "code",
   "execution_count": 1,
   "metadata": {},
   "outputs": [],
   "source": [
    "# Nhập các thư viện cần dùng\n",
    "import numpy as np\n",
    "import pandas as pd\n",
    "\n",
    "import warnings\n",
    "# Bỏ qua tất cả các cảnh báo\n",
    "warnings.filterwarnings(\"ignore\")\n",
    "\n",
    "# Các thư viện để vẽ hình\n",
    "import matplotlib.pyplot as plt\n",
    "import plotly.express as px\n",
    "import plotly.graph_objects as go\n"
   ]
  },
  {
   "cell_type": "markdown",
   "metadata": {},
   "source": [
    "### 2. Nhập dữ liệu"
   ]
  },
  {
   "cell_type": "code",
   "execution_count": null,
   "metadata": {},
   "outputs": [],
   "source": [
    "# Nhập data đã xử lý từ pha B (tuỳ ý đổi 'full_df' thành cái khác nha)\n",
    "full_df = pd.read_csv(\"./Data/full_data_processed.csv \")\n",
    "full_df['Date'] = pd.to_datetime(full_df['Date'])\n",
    "# Set index là date (mọi người không dùng có thể xoá)\n",
    "full_df = full_df.set_index(pd.DatetimeIndex(full_df['Date'].values))\n",
    "# In ra shape sau khi nhập\n",
    "full_df.shape"
   ]
  },
  {
   "cell_type": "markdown",
   "metadata": {},
   "source": [
    "## **II. Phân tích và trực quan hoá.** <a id=”ii-phân-tích-và-trực-quan-hoá″></a>"
   ]
  },
  {
   "cell_type": "markdown",
   "metadata": {},
   "source": [
    "### ***Notes*** (Khi nào mn đọc xong thì xoá nha)\n",
    "\n",
    "*In nghiêng*  \n",
    "**In đậm**  \n",
    "***Vừa nghiêng vừa đậm***  \n",
    "`highlight`  \n",
    "> Quotes/ note/ sub-idea  \n",
    "\n",
    "item-list \n",
    "- item1\n",
    "- item2\n",
    "\n",
    "enum-list :v\n",
    "1. enum1\n",
    "1. enum2\n",
    "2. enum3\n",
    "5. enum4 \n",
    "\n",
    "\n",
    "Khuyến khích mọi người đánh số câu hỏi lớn vào cho câu hỏi nhỏ luôn, ví dụ:\n",
    "### **1. câu 1**\n",
    "#### **1.1. câu nhỏ 1**\n",
    "#### **1.2. câu nhỏ 2**\n",
    "##### **1.2.1. câu nhỏ nhỏ 1**\n",
    "> Nhận xét cho câu nào thì sẽ đặt heading nhiều hơn câu đó 1 dấu # nha và **in đậm** chữ **Nhận xét** lên, còn nhận xét của câu nhỏ nhỏ (nếu có) thì mn in đậm lên là được rồi nè\n",
    "\n",
    "Ví dụ nhận xét của câu 1:\n",
    "### **1. câu 1**\n",
    "#### **Nhận xét:**\n",
    "- Nhận xét ý 1\n",
    "    - Nhận xét con làm rõ cho ý 1\n",
    "        > Nhận xét nhỏ nhỏ bổ xung ý cho nhận xét con, hoặc bổ sung góc nhìn gì đó\n",
    "    - Nhận xét con 2 của nhận xét ý 1\n",
    "- Nhận xét ý 2\n",
    "- Nhận xét ý 3\n",
    "    > Bổ sung cho nhận xét 3\n",
    "    \n",
    "___\n",
    "### **1. câu 1**\n",
    "#### **1.1. câu nhỏ 1**\n",
    "##### **Nhận xét:**\n",
    "- Nhận xét ý 1\n",
    "    - Nhận xét con làm rõ cho ý 1\n",
    "        > Nhận xét nhỏ nhỏ bổ xung ý cho nhận xét con, hoặc bổ sung góc nhìn gì đó\n",
    "    - Nhận xét con 2 của nhận xét ý 1\n",
    "- Nhận xét ý 2\n",
    "- Nhận xét ý 3\n",
    "    > Bổ sung cho nhận xét 3\n",
    "\n",
    "\n",
    "hết notes\n",
    "\n",
    "--- \n"
   ]
  },
  {
   "cell_type": "markdown",
   "metadata": {},
   "source": [
    "### **1. <Câu hỏi 1>**"
   ]
  },
  {
   "cell_type": "markdown",
   "metadata": {},
   "source": [
    "(Xoá nếu ko dùng)\n",
    "#### **Thông tin đang quan tâm:**\n",
    "...\n",
    "#### **Hướng tiếp cận:**\n",
    "- ...\n",
    "- ...\n",
    "#### **Cách trực quan để trả lời câu hỏi:**\n",
    "- ...\n"
   ]
  },
  {
   "cell_type": "code",
   "execution_count": null,
   "metadata": {},
   "outputs": [],
   "source": [
    "# các Cells code "
   ]
  },
  {
   "cell_type": "markdown",
   "metadata": {},
   "source": [
    "#### **Nhận xét:**\n",
    "- Nhận xét ý 1\n",
    "    - Nhận xét con làm rõ cho ý 1\n",
    "        > Nhận xét nhỏ nhỏ bổ xung ý cho nhận xét con, hoặc bổ sung góc nhìn gì đó\n",
    "    - Nhận xét con 2 của nhận xét ý 1\n",
    "- Nhận xét ý 2\n",
    "- Nhận xét ý 3\n",
    "    > Bổ sung cho nhận xét 3"
   ]
  },
  {
   "cell_type": "markdown",
   "metadata": {},
   "source": [
    "### **2. câu 2**\n"
   ]
  },
  {
   "cell_type": "markdown",
   "metadata": {},
   "source": [
    "#### **2.1. câu nhỏ 1**\n"
   ]
  },
  {
   "cell_type": "markdown",
   "metadata": {},
   "source": [
    "(Xoá nếu ko dùng)\n",
    "##### **Thông tin đang quan tâm:**\n",
    "...\n",
    "##### **Hướng tiếp cận:**\n",
    "- ...\n",
    "- ...\n",
    "##### **Cách trực quan để trả lời câu hỏi:**\n",
    "- ...\n"
   ]
  },
  {
   "cell_type": "code",
   "execution_count": null,
   "metadata": {},
   "outputs": [],
   "source": [
    "# Code"
   ]
  },
  {
   "cell_type": "markdown",
   "metadata": {},
   "source": [
    "\n",
    "##### **Nhận xét:**\n",
    "- Nhận xét ý 1\n",
    "    - Nhận xét con làm rõ cho ý 1\n",
    "        > Nhận xét nhỏ nhỏ bổ xung ý cho nhận xét con, hoặc bổ sung góc nhìn gì đó\n",
    "    - Nhận xét con 2 của nhận xét ý 1\n",
    "- Nhận xét ý 2\n",
    "- Nhận xét ý 3\n",
    "    > Bổ sung cho nhận xét 3"
   ]
  }
 ],
 "metadata": {
  "kernelspec": {
   "display_name": "base",
   "language": "python",
   "name": "python3"
  },
  "language_info": {
   "codemirror_mode": {
    "name": "ipython",
    "version": 3
   },
   "file_extension": ".py",
   "mimetype": "text/x-python",
   "name": "python",
   "nbconvert_exporter": "python",
   "pygments_lexer": "ipython3",
   "version": "3.11.5"
  }
 },
 "nbformat": 4,
 "nbformat_minor": 2
}
