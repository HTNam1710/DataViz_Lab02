{
 "cells": [
  {
   "cell_type": "markdown",
   "metadata": {},
   "source": [
    "<div style=\"text-align: center; background-color: #0A6EBD; font-family: 'Trebuchet MS', Arial, sans-serif; color: white; padding: 20px; font-size: 30px; font-weight: bold; border-radius: 0 0 0 0; box-shadow: 0px 6px 8px rgba(0, 0, 0, 0.2);\">\n",
    "  LAB-02: LÀM VIỆC VÀ TRỰC QUAN HÓA DỮ LIỆU CHUỖI THỜI GIAN<Title>\n",
    "</div>"
   ]
  },
  {
   "cell_type": "markdown",
   "metadata": {},
   "source": [
    "<h2 style=\"text-align:center;\">Nhóm 23</h2>\n",
    "\n",
    "## Thông tin nhóm: \n",
    "\n",
    "<center>\n",
    "\n",
    "| HỌ TÊN                | MSSV      |\n",
    "|:------------------    |:--------: |\n",
    "| Lê Công Đắt     | 20120454  |\n",
    "| Lê Trần Minh Khuê     | 21120279  |\n",
    "| Hoàng Trung Nam       | 21120290  |\n",
    "| Lê Trần Như Ngọc       | 21120296  |\n",
    "| Lê Thị Minh Phương | 21120533  |\n",
    "\n",
    "</center>\n",
    "\n",
    "## Giảng viên hướng dẫn:\n",
    "**Thầy Lê Nhựt Nam**\n",
    "\n",
    "### Chủ đề: **Phân tích và trực quan giá cổ phiếu của top 6 ngân hàng có giá trị thương hiệu tốt nhất Việt Nam**"
   ]
  },
  {
   "cell_type": "markdown",
   "metadata": {},
   "source": [
    "## **Phần B: Khám phá và tiền xử lý dữ liệu.**"
   ]
  },
  {
   "cell_type": "markdown",
   "metadata": {},
   "source": [
    "### **I. Chuẩn bị**"
   ]
  },
  {
   "cell_type": "markdown",
   "metadata": {},
   "source": [
    "#### 1. Nhập các thư viện"
   ]
  },
  {
   "cell_type": "code",
   "execution_count": 1,
   "metadata": {},
   "outputs": [],
   "source": [
    "# Nhập các thư viện cần dùng\n",
    "import numpy as np\n",
    "import pandas as pd\n",
    "import os"
   ]
  },
  {
   "cell_type": "markdown",
   "metadata": {},
   "source": [
    "#### 2. Nhập các file dữ liệu vào notebook"
   ]
  },
  {
   "cell_type": "markdown",
   "metadata": {},
   "source": [
    "Vì dữ liệu được lưu trữ theo từng ngân hàng riêng biệt, nên ta sẽ đọc từng file lại, tiền xử lý và sau đó gộp lại 1 file sau cùng."
   ]
  },
  {
   "cell_type": "code",
   "execution_count": 13,
   "metadata": {},
   "outputs": [],
   "source": [
    "path = \"./Data/\"\n",
    "stock_symbol = ['VCB','BID','CTG','TCB','AGR','VPB']\n",
    "df =[]\n",
    "for bank in stock_symbol:\n",
    "    raw_df = pd.read_csv(path + bank +' Historical Data.csv')\n",
    "    df.append(raw_df)\n",
    "\n",
    "VCB_df = df[0]\n",
    "BID_df = df[1]\n",
    "CTG_df = df[2]\n",
    "TCB_df = df[3]\n",
    "AGR_df = df[4]\n",
    "VPB_df = df[5]"
   ]
  },
  {
   "cell_type": "markdown",
   "metadata": {},
   "source": [
    "### **II. Khám phá dữ liệu**"
   ]
  },
  {
   "cell_type": "markdown",
   "metadata": {},
   "source": [
    "#### 1. Mỗi dòng có ý nghĩa gì? Có vấn đề các dòng có ý nghĩa khác nhau không?"
   ]
  },
  {
   "cell_type": "markdown",
   "metadata": {},
   "source": [
    "Ta sẽ in ra dòng đầu của từng ngân hàng để xem xét."
   ]
  },
  {
   "cell_type": "code",
   "execution_count": 14,
   "metadata": {},
   "outputs": [
    {
     "data": {
      "text/html": [
       "<div>\n",
       "<style scoped>\n",
       "    .dataframe tbody tr th:only-of-type {\n",
       "        vertical-align: middle;\n",
       "    }\n",
       "\n",
       "    .dataframe tbody tr th {\n",
       "        vertical-align: top;\n",
       "    }\n",
       "\n",
       "    .dataframe thead th {\n",
       "        text-align: right;\n",
       "    }\n",
       "</style>\n",
       "<table border=\"1\" class=\"dataframe\">\n",
       "  <thead>\n",
       "    <tr style=\"text-align: right;\">\n",
       "      <th></th>\n",
       "      <th>Date</th>\n",
       "      <th>Price</th>\n",
       "      <th>Open</th>\n",
       "      <th>High</th>\n",
       "      <th>Low</th>\n",
       "      <th>Vol.</th>\n",
       "      <th>Change %</th>\n",
       "    </tr>\n",
       "  </thead>\n",
       "  <tbody>\n",
       "    <tr>\n",
       "      <th>0</th>\n",
       "      <td>05/24/2024</td>\n",
       "      <td>90,200</td>\n",
       "      <td>91,000</td>\n",
       "      <td>91,000</td>\n",
       "      <td>90,000</td>\n",
       "      <td>2.24M</td>\n",
       "      <td>-0.88%</td>\n",
       "    </tr>\n",
       "  </tbody>\n",
       "</table>\n",
       "</div>"
      ],
      "text/plain": [
       "         Date   Price    Open    High     Low   Vol. Change %\n",
       "0  05/24/2024  90,200  91,000  91,000  90,000  2.24M   -0.88%"
      ]
     },
     "execution_count": 14,
     "metadata": {},
     "output_type": "execute_result"
    }
   ],
   "source": [
    "VCB_df.head(1)"
   ]
  },
  {
   "cell_type": "code",
   "execution_count": 15,
   "metadata": {},
   "outputs": [
    {
     "data": {
      "text/html": [
       "<div>\n",
       "<style scoped>\n",
       "    .dataframe tbody tr th:only-of-type {\n",
       "        vertical-align: middle;\n",
       "    }\n",
       "\n",
       "    .dataframe tbody tr th {\n",
       "        vertical-align: top;\n",
       "    }\n",
       "\n",
       "    .dataframe thead th {\n",
       "        text-align: right;\n",
       "    }\n",
       "</style>\n",
       "<table border=\"1\" class=\"dataframe\">\n",
       "  <thead>\n",
       "    <tr style=\"text-align: right;\">\n",
       "      <th></th>\n",
       "      <th>Date</th>\n",
       "      <th>Price</th>\n",
       "      <th>Open</th>\n",
       "      <th>High</th>\n",
       "      <th>Low</th>\n",
       "      <th>Vol.</th>\n",
       "      <th>Change %</th>\n",
       "    </tr>\n",
       "  </thead>\n",
       "  <tbody>\n",
       "    <tr>\n",
       "      <th>0</th>\n",
       "      <td>05/24/2024</td>\n",
       "      <td>49,200.0</td>\n",
       "      <td>49,600.0</td>\n",
       "      <td>50,600.0</td>\n",
       "      <td>48,500.0</td>\n",
       "      <td>2.18M</td>\n",
       "      <td>-0.61%</td>\n",
       "    </tr>\n",
       "  </tbody>\n",
       "</table>\n",
       "</div>"
      ],
      "text/plain": [
       "         Date     Price      Open      High       Low   Vol. Change %\n",
       "0  05/24/2024  49,200.0  49,600.0  50,600.0  48,500.0  2.18M   -0.61%"
      ]
     },
     "execution_count": 15,
     "metadata": {},
     "output_type": "execute_result"
    }
   ],
   "source": [
    "BID_df.head(1)"
   ]
  },
  {
   "cell_type": "code",
   "execution_count": 16,
   "metadata": {},
   "outputs": [
    {
     "data": {
      "text/html": [
       "<div>\n",
       "<style scoped>\n",
       "    .dataframe tbody tr th:only-of-type {\n",
       "        vertical-align: middle;\n",
       "    }\n",
       "\n",
       "    .dataframe tbody tr th {\n",
       "        vertical-align: top;\n",
       "    }\n",
       "\n",
       "    .dataframe thead th {\n",
       "        text-align: right;\n",
       "    }\n",
       "</style>\n",
       "<table border=\"1\" class=\"dataframe\">\n",
       "  <thead>\n",
       "    <tr style=\"text-align: right;\">\n",
       "      <th></th>\n",
       "      <th>Date</th>\n",
       "      <th>Price</th>\n",
       "      <th>Open</th>\n",
       "      <th>High</th>\n",
       "      <th>Low</th>\n",
       "      <th>Vol.</th>\n",
       "      <th>Change %</th>\n",
       "    </tr>\n",
       "  </thead>\n",
       "  <tbody>\n",
       "    <tr>\n",
       "      <th>0</th>\n",
       "      <td>05/24/2024</td>\n",
       "      <td>32,500.0</td>\n",
       "      <td>33,100.0</td>\n",
       "      <td>33,900.0</td>\n",
       "      <td>32,300.0</td>\n",
       "      <td>13.92M</td>\n",
       "      <td>-2.26%</td>\n",
       "    </tr>\n",
       "  </tbody>\n",
       "</table>\n",
       "</div>"
      ],
      "text/plain": [
       "         Date     Price      Open      High       Low    Vol. Change %\n",
       "0  05/24/2024  32,500.0  33,100.0  33,900.0  32,300.0  13.92M   -2.26%"
      ]
     },
     "execution_count": 16,
     "metadata": {},
     "output_type": "execute_result"
    }
   ],
   "source": [
    "CTG_df.head(1)"
   ]
  },
  {
   "cell_type": "code",
   "execution_count": 17,
   "metadata": {},
   "outputs": [
    {
     "data": {
      "text/html": [
       "<div>\n",
       "<style scoped>\n",
       "    .dataframe tbody tr th:only-of-type {\n",
       "        vertical-align: middle;\n",
       "    }\n",
       "\n",
       "    .dataframe tbody tr th {\n",
       "        vertical-align: top;\n",
       "    }\n",
       "\n",
       "    .dataframe thead th {\n",
       "        text-align: right;\n",
       "    }\n",
       "</style>\n",
       "<table border=\"1\" class=\"dataframe\">\n",
       "  <thead>\n",
       "    <tr style=\"text-align: right;\">\n",
       "      <th></th>\n",
       "      <th>Date</th>\n",
       "      <th>Price</th>\n",
       "      <th>Open</th>\n",
       "      <th>High</th>\n",
       "      <th>Low</th>\n",
       "      <th>Vol.</th>\n",
       "      <th>Change %</th>\n",
       "    </tr>\n",
       "  </thead>\n",
       "  <tbody>\n",
       "    <tr>\n",
       "      <th>0</th>\n",
       "      <td>05/24/2024</td>\n",
       "      <td>46,400.0</td>\n",
       "      <td>46,150.0</td>\n",
       "      <td>47,250.0</td>\n",
       "      <td>45,800.0</td>\n",
       "      <td>14.62M</td>\n",
       "      <td>-0.22%</td>\n",
       "    </tr>\n",
       "  </tbody>\n",
       "</table>\n",
       "</div>"
      ],
      "text/plain": [
       "         Date     Price      Open      High       Low    Vol. Change %\n",
       "0  05/24/2024  46,400.0  46,150.0  47,250.0  45,800.0  14.62M   -0.22%"
      ]
     },
     "execution_count": 17,
     "metadata": {},
     "output_type": "execute_result"
    }
   ],
   "source": [
    "TCB_df.head(1)"
   ]
  },
  {
   "cell_type": "code",
   "execution_count": 18,
   "metadata": {},
   "outputs": [
    {
     "data": {
      "text/html": [
       "<div>\n",
       "<style scoped>\n",
       "    .dataframe tbody tr th:only-of-type {\n",
       "        vertical-align: middle;\n",
       "    }\n",
       "\n",
       "    .dataframe tbody tr th {\n",
       "        vertical-align: top;\n",
       "    }\n",
       "\n",
       "    .dataframe thead th {\n",
       "        text-align: right;\n",
       "    }\n",
       "</style>\n",
       "<table border=\"1\" class=\"dataframe\">\n",
       "  <thead>\n",
       "    <tr style=\"text-align: right;\">\n",
       "      <th></th>\n",
       "      <th>Date</th>\n",
       "      <th>Price</th>\n",
       "      <th>Open</th>\n",
       "      <th>High</th>\n",
       "      <th>Low</th>\n",
       "      <th>Vol.</th>\n",
       "      <th>Change %</th>\n",
       "    </tr>\n",
       "  </thead>\n",
       "  <tbody>\n",
       "    <tr>\n",
       "      <th>0</th>\n",
       "      <td>05/24/2024</td>\n",
       "      <td>19,650.0</td>\n",
       "      <td>20,450.0</td>\n",
       "      <td>20,450.0</td>\n",
       "      <td>19,200.0</td>\n",
       "      <td>3.62M</td>\n",
       "      <td>-4.38%</td>\n",
       "    </tr>\n",
       "  </tbody>\n",
       "</table>\n",
       "</div>"
      ],
      "text/plain": [
       "         Date     Price      Open      High       Low   Vol. Change %\n",
       "0  05/24/2024  19,650.0  20,450.0  20,450.0  19,200.0  3.62M   -4.38%"
      ]
     },
     "execution_count": 18,
     "metadata": {},
     "output_type": "execute_result"
    }
   ],
   "source": [
    "AGR_df.head(1)"
   ]
  },
  {
   "cell_type": "code",
   "execution_count": 21,
   "metadata": {},
   "outputs": [
    {
     "data": {
      "text/html": [
       "<div>\n",
       "<style scoped>\n",
       "    .dataframe tbody tr th:only-of-type {\n",
       "        vertical-align: middle;\n",
       "    }\n",
       "\n",
       "    .dataframe tbody tr th {\n",
       "        vertical-align: top;\n",
       "    }\n",
       "\n",
       "    .dataframe thead th {\n",
       "        text-align: right;\n",
       "    }\n",
       "</style>\n",
       "<table border=\"1\" class=\"dataframe\">\n",
       "  <thead>\n",
       "    <tr style=\"text-align: right;\">\n",
       "      <th></th>\n",
       "      <th>Date</th>\n",
       "      <th>Price</th>\n",
       "      <th>Open</th>\n",
       "      <th>High</th>\n",
       "      <th>Low</th>\n",
       "      <th>Vol.</th>\n",
       "      <th>Change %</th>\n",
       "    </tr>\n",
       "  </thead>\n",
       "  <tbody>\n",
       "    <tr>\n",
       "      <th>0</th>\n",
       "      <td>05/24/2024</td>\n",
       "      <td>18,000.0</td>\n",
       "      <td>18,400.0</td>\n",
       "      <td>18,500.0</td>\n",
       "      <td>18,000.0</td>\n",
       "      <td>19.56M</td>\n",
       "      <td>-2.70%</td>\n",
       "    </tr>\n",
       "    <tr>\n",
       "      <th>1</th>\n",
       "      <td>05/23/2024</td>\n",
       "      <td>18,500.0</td>\n",
       "      <td>18,300.0</td>\n",
       "      <td>18,500.0</td>\n",
       "      <td>18,150.0</td>\n",
       "      <td>9.37M</td>\n",
       "      <td>1.09%</td>\n",
       "    </tr>\n",
       "  </tbody>\n",
       "</table>\n",
       "</div>"
      ],
      "text/plain": [
       "         Date     Price      Open      High       Low    Vol. Change %\n",
       "0  05/24/2024  18,000.0  18,400.0  18,500.0  18,000.0  19.56M   -2.70%\n",
       "1  05/23/2024  18,500.0  18,300.0  18,500.0  18,150.0   9.37M    1.09%"
      ]
     },
     "execution_count": 21,
     "metadata": {},
     "output_type": "execute_result"
    }
   ],
   "source": [
    "VPB_df.head(1)"
   ]
  },
  {
   "cell_type": "markdown",
   "metadata": {},
   "source": [
    "Ta thấy, mỗi dòng dữ liệu đều thể hiện thông tin về giá chứng khoán của ngân hàng trong một ngày cụ thể. Không có sự khác biệt trong ý nghĩa của các dòng.\n",
    "Tuy nhiên, cần xem xét thêm có sự trùng lặp nào ở các dòng hay không."
   ]
  },
  {
   "cell_type": "code",
   "execution_count": 23,
   "metadata": {},
   "outputs": [
    {
     "name": "stdout",
     "output_type": "stream",
     "text": [
      "There are no duplicate rows in VCB_df\n",
      "There are no duplicate rows in BID_df\n",
      "There are no duplicate rows in CTG_df\n",
      "There are no duplicate rows in TCB_df\n",
      "There are no duplicate rows in AGR_df\n",
      "There are no duplicate rows in VPB_df\n"
     ]
    }
   ],
   "source": [
    "def is_duplicate_rows(df,symbol):\n",
    "    if len(df[df.duplicated()]) == 0:\n",
    "        print(f'There are no duplicate rows in {symbol}_df')\n",
    "    else:\n",
    "        print('There are duplicate rows in VCB_df')\n",
    "\n",
    "is_duplicate_rows(VCB_df,'VCB')\n",
    "is_duplicate_rows(BID_df,'BID')\n",
    "is_duplicate_rows(CTG_df,'CTG')\n",
    "is_duplicate_rows(TCB_df,'TCB')\n",
    "is_duplicate_rows(AGR_df,'AGR')\n",
    "is_duplicate_rows(VPB_df,'VPB')\n"
   ]
  },
  {
   "cell_type": "markdown",
   "metadata": {},
   "source": [
    "#### 2. Mỗi cột có ý nghĩa gì?"
   ]
  },
  {
   "cell_type": "markdown",
   "metadata": {},
   "source": [
    "Các cột và thông tin tương ứng:\n",
    "- `Date`: Ngày ghi nhận thông tin (đóng vai trò là index khi nằm ở các dataframe của từng ngân hàng).\n",
    "\n",
    "- `Price`: Giá tham chiếu của ngày đang đề cập, tạm xem như giá đóng cửa (Close price - giá trung bình của các lệnh khớp trong 15p cuối phiên, thường là 14h30-14h45p).\n",
    "\n",
    "- `Open`: Giá phiên khớp lệnh mở cửa (Được ghi nhận sau phiên khớp lệnh đầu ngày từ 9h00 - 9h15 các ngày thứ 2 đến thứ 6).\n",
    "\n",
    "- `High`: Giá cao nhất trong phiên giao dịch của ngày đang đề cập.\n",
    "\n",
    "- `Low`: Giá thấp nhất trong phiên giao dịch của ngày đang đề cập.\n",
    "\n",
    "- `Vol.`: Khối lượng giao dịch - Tổng số cổ phiếu được mua và bán trong một phiên giao dịch\n",
    "\n",
    "- `Change %`: Biến động giá - sự thay đổi giá cổ phiếu so với giá tham chiếu (trong ngữ cảnh này thể hiện sự thay đổi của Price ngày hiện tại so với price ngày liền trước.)"
   ]
  },
  {
   "cell_type": "markdown",
   "metadata": {},
   "source": [
    "#### 3. Mỗi cột hiện có kiểu dữ liệu gì? Có cột nào có kiểu dữ liệu chưa phù hợp cần xử lý tiếp hay không?"
   ]
  },
  {
   "cell_type": "code",
   "execution_count": 27,
   "metadata": {},
   "outputs": [
    {
     "name": "stdout",
     "output_type": "stream",
     "text": [
      "<class 'pandas.core.frame.DataFrame'>\n",
      "RangeIndex: 3718 entries, 0 to 3717\n",
      "Data columns (total 7 columns):\n",
      " #   Column    Non-Null Count  Dtype \n",
      "---  ------    --------------  ----- \n",
      " 0   Date      3718 non-null   object\n",
      " 1   Price     3718 non-null   object\n",
      " 2   Open      3718 non-null   object\n",
      " 3   High      3718 non-null   object\n",
      " 4   Low       3718 non-null   object\n",
      " 5   Vol.      3718 non-null   object\n",
      " 6   Change %  3718 non-null   object\n",
      "dtypes: object(7)\n",
      "memory usage: 203.5+ KB\n",
      "None\n"
     ]
    }
   ],
   "source": [
    "print(\"VCB info\"VCB_df.info())"
   ]
  },
  {
   "cell_type": "markdown",
   "metadata": {},
   "source": [
    "#### 4. Với mỗi cột, các giá trị (dạng số, dạng phân loại) được phân bố như thế nào?"
   ]
  },
  {
   "cell_type": "markdown",
   "metadata": {},
   "source": [
    "##### 4.1. Các cột dạng số"
   ]
  },
  {
   "cell_type": "markdown",
   "metadata": {},
   "source": [
    "##### 4.2. Các cột dạng phân loại"
   ]
  },
  {
   "cell_type": "markdown",
   "metadata": {},
   "source": [
    "#### 5. Có cần phải tiền xử lý dữ liệu hay không và nếu có thì nhóm cần phải xử lý như thế nào?\n"
   ]
  }
 ],
 "metadata": {
  "kernelspec": {
   "display_name": "base",
   "language": "python",
   "name": "python3"
  },
  "language_info": {
   "codemirror_mode": {
    "name": "ipython",
    "version": 3
   },
   "file_extension": ".py",
   "mimetype": "text/x-python",
   "name": "python",
   "nbconvert_exporter": "python",
   "pygments_lexer": "ipython3",
   "version": "3.11.5"
  }
 },
 "nbformat": 4,
 "nbformat_minor": 2
}
